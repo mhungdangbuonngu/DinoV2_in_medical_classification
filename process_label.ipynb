{
 "cells": [
  {
   "cell_type": "code",
   "execution_count": 8,
   "metadata": {},
   "outputs": [],
   "source": [
    "import os\n",
    "import numpy as np"
   ]
  },
  {
   "cell_type": "code",
   "execution_count": 10,
   "metadata": {},
   "outputs": [
    {
     "name": "stdout",
     "output_type": "stream",
     "text": [
      "<class 'numpy.ndarray'>\n",
      "<class 'numpy.ndarray'>\n",
      "<class 'numpy.ndarray'>\n",
      "<class 'numpy.ndarray'>\n"
     ]
    }
   ],
   "source": [
    "\n",
    "img_data_path = r\"img_data/\"\n",
    "for train_test in os.listdir(img_data_path):\n",
    "    train_test_path = os.path.join(img_data_path, train_test) \n",
    "    for yes_no in os.listdir(train_test_path):\n",
    "        label = np.array([yes_no == \"no\", yes_no == \"yes\"]).astype(float)\n",
    "        img_folder_path = os.path.join(train_test_path, yes_no)\n",
    "        for img in os.listdir(img_folder_path):\n",
    "            pass\n"
   ]
  }
 ],
 "metadata": {
  "kernelspec": {
   "display_name": "Python 3",
   "language": "python",
   "name": "python3"
  },
  "language_info": {
   "codemirror_mode": {
    "name": "ipython",
    "version": 3
   },
   "file_extension": ".py",
   "mimetype": "text/x-python",
   "name": "python",
   "nbconvert_exporter": "python",
   "pygments_lexer": "ipython3",
   "version": "3.12.6"
  }
 },
 "nbformat": 4,
 "nbformat_minor": 2
}
