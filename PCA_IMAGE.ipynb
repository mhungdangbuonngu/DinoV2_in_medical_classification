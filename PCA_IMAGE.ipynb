{
 "cells": [
  {
   "cell_type": "code",
   "execution_count": 1,
   "metadata": {},
   "outputs": [],
   "source": [
    "import numpy as np"
   ]
  },
  {
   "cell_type": "code",
   "execution_count": 2,
   "metadata": {},
   "outputs": [
    {
     "data": {
      "text/plain": [
       "array([[[-1.1602267 , -3.9833636 , -2.3417685 , ..., -1.0595291 ,\n",
       "         -0.4081105 , -2.7872818 ],\n",
       "        [-2.6938355 , -5.005462  , -3.011996  , ...,  0.2615432 ,\n",
       "         -0.20764044, -2.0945032 ],\n",
       "        [-2.7431304 , -5.0512357 , -3.17253   , ...,  0.27626294,\n",
       "         -0.06980276, -1.9828112 ],\n",
       "        ...,\n",
       "        [-0.15665434, -2.717404  , -2.74017   , ..., -1.1342764 ,\n",
       "         -0.96800727, -4.253045  ],\n",
       "        [-0.34845293, -2.6172612 , -2.6931324 , ..., -1.3665224 ,\n",
       "         -0.9654854 , -4.9869184 ],\n",
       "        [-1.9384375 , -0.2820665 , -2.179023  , ...,  0.61066127,\n",
       "         -0.9630485 , -5.0735497 ]]], dtype=float32)"
      ]
     },
     "execution_count": 2,
     "metadata": {},
     "output_type": "execute_result"
    }
   ],
   "source": [
    "data=np.load(\"C:/Users/PC/Downloads/test.npy\")\n",
    "data"
   ]
  },
  {
   "cell_type": "code",
   "execution_count": 10,
   "metadata": {},
   "outputs": [],
   "source": [
    "class PCA:\n",
    "    def __init__(self,n_component):\n",
    "        self.n_components=n_component\n",
    "        self.components=None\n",
    "        self.mean=None\n",
    "    \n",
    "    def fit(self,X):\n",
    "        #sub mean\n",
    "        self.mean=np.mean(X,axis=0)\n",
    "        X=X-self.mean\n",
    "        #cov\n",
    "        cov=np.cov(X.T)\n",
    "\n",
    "        #eigenVectors, Values\n",
    "        eigenvectors,eigenvalues=np.linalg.eig(cov)\n",
    "\n",
    "        #eigenvectors v=[:,i] column vector, transpose\n",
    "        idxs=np.argsort(eigenvalues)[::-1]\n",
    "        eigenvalues=eigenvalues[idxs]\n",
    "        eigenvectors=eigenvectors[idxs]\n",
    "\n",
    "        self.components = eigenvectors[:self.n_components]\n",
    "\n",
    "    def transform(self,X):\n",
    "        X= X-self.mean\n",
    "        return np.dot(X,self.components.T)\n",
    "\n"
   ]
  },
  {
   "cell_type": "code",
   "execution_count": 11,
   "metadata": {},
   "outputs": [],
   "source": [
    "def PCA_images(data,n_components):\n",
    "    if len(data.shape)==3:\n",
    "        h,w,c=data.shape\n",
    "        reshape_data=data.reshape(h*w,c)\n",
    "    else:\n",
    "        reshape_data=data\n",
    "        h,w=data.shape\n",
    "        c=1\n",
    "\n",
    "    pca=PCA(n_components)\n",
    "    pca.fit(reshape_data)\n",
    "    new_data=pca.transform(reshape_data)\n",
    "    return new_data    "
   ]
  },
  {
   "cell_type": "code",
   "execution_count": 12,
   "metadata": {},
   "outputs": [
    {
     "name": "stdout",
     "output_type": "stream",
     "text": [
      "(5184, 3)\n"
     ]
    }
   ],
   "source": [
    "new_data = PCA_images(data,3)\n",
    "print(new_data.shape)"
   ]
  },
  {
   "cell_type": "code",
   "execution_count": 13,
   "metadata": {},
   "outputs": [
    {
     "name": "stdout",
     "output_type": "stream",
     "text": [
      "[[ 297.06565792  538.48365613 -119.95040991]\n",
      " [  23.61728764  308.73682708  219.02643672]\n",
      " [  65.78273011  313.46144657  256.73215582]\n",
      " ...\n",
      " [ 445.4543252   187.28555647 -236.39953247]\n",
      " [ 506.24601811   89.84368268 -186.91030982]\n",
      " [ 385.69294895   -3.46206853  -52.97467984]]\n"
     ]
    }
   ],
   "source": "print(new_data)"
  },
  {
   "cell_type": "code",
   "execution_count": 15,
   "metadata": {},
   "outputs": [
    {
     "name": "stdout",
     "output_type": "stream",
     "text": [
      "(1, 3, 4)\n"
     ]
    }
   ],
   "source": [
    "buddy=np.array([[[1,3,4,6],[3,54,78,8],[123,1,12,7]]])\n",
    "print(buddy.shape)"
   ]
  },
  {
   "cell_type": "code",
   "execution_count": 21,
   "metadata": {},
   "outputs": [
    {
     "name": "stdout",
     "output_type": "stream",
     "text": [
      "(3,)\n"
     ]
    }
   ],
   "source": [
    "new_buddy=PCA_images(buddy,2)\n",
    "print(new_buddy.shape[:1])"
   ]
  },
  {
   "cell_type": "code",
   "execution_count": null,
   "metadata": {},
   "outputs": [],
   "source": []
  }
 ],
 "metadata": {
  "kernelspec": {
   "display_name": "Python 3",
   "language": "python",
   "name": "python3"
  },
  "language_info": {
   "codemirror_mode": {
    "name": "ipython",
    "version": 3
   },
   "file_extension": ".py",
   "mimetype": "text/x-python",
   "name": "python",
   "nbconvert_exporter": "python",
   "pygments_lexer": "ipython3",
   "version": "3.11.9"
  }
 },
 "nbformat": 4,
 "nbformat_minor": 2
}
