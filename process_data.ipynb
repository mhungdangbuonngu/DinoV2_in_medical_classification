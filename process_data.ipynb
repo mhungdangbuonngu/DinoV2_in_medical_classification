{
 "cells": [
  {
   "cell_type": "markdown",
   "metadata": {},
   "source": [
    "### Import and load data entry"
   ]
  },
  {
   "cell_type": "code",
   "execution_count": 2,
   "metadata": {},
   "outputs": [],
   "source": [
    "import pandas as pd\n",
    "import numpy as np\n",
    "from os.path import join, exists\n",
    "import os\n",
    "from tqdm import tqdm\n",
    "import json\n",
    "\n",
    "from PIL import Image\n",
    "from torchvision import transforms"
   ]
  },
  {
   "cell_type": "code",
   "execution_count": 2,
   "metadata": {},
   "outputs": [
    {
     "name": "stderr",
     "output_type": "stream",
     "text": [
      "C:\\Users\\trong\\AppData\\Local\\Temp\\ipykernel_4984\\1998302472.py:1: DtypeWarning: Columns (2,3,4,7,8,9,10) have mixed types. Specify dtype option on import or set low_memory=False.\n",
      "  data_entry = pd.read_csv(\"Data_Entry_2017.csv\", sep=\";\")\n"
     ]
    }
   ],
   "source": [
    "data_entry = pd.read_csv(\"Data_Entry_2017.csv\", sep=\";\")"
   ]
  },
  {
   "cell_type": "code",
   "execution_count": 3,
   "metadata": {},
   "outputs": [
    {
     "data": {
      "text/html": [
       "<div>\n",
       "<style scoped>\n",
       "    .dataframe tbody tr th:only-of-type {\n",
       "        vertical-align: middle;\n",
       "    }\n",
       "\n",
       "    .dataframe tbody tr th {\n",
       "        vertical-align: top;\n",
       "    }\n",
       "\n",
       "    .dataframe thead th {\n",
       "        text-align: right;\n",
       "    }\n",
       "</style>\n",
       "<table border=\"1\" class=\"dataframe\">\n",
       "  <thead>\n",
       "    <tr style=\"text-align: right;\">\n",
       "      <th></th>\n",
       "      <th>Column1</th>\n",
       "      <th>Column2</th>\n",
       "      <th>Column3</th>\n",
       "      <th>Column4</th>\n",
       "      <th>Column5</th>\n",
       "      <th>Column6</th>\n",
       "      <th>Column7</th>\n",
       "      <th>Column8</th>\n",
       "      <th>Column9</th>\n",
       "      <th>Column10</th>\n",
       "      <th>Column11</th>\n",
       "      <th>Column12</th>\n",
       "    </tr>\n",
       "  </thead>\n",
       "  <tbody>\n",
       "    <tr>\n",
       "      <th>0</th>\n",
       "      <td>Image Index</td>\n",
       "      <td>Finding Labels</td>\n",
       "      <td>Follow-up #</td>\n",
       "      <td>Patient ID</td>\n",
       "      <td>Patient Age</td>\n",
       "      <td>Patient Gender</td>\n",
       "      <td>View Position</td>\n",
       "      <td>OriginalImage[Width</td>\n",
       "      <td>Height]</td>\n",
       "      <td>OriginalImagePixelSpacing[x</td>\n",
       "      <td>y]</td>\n",
       "      <td>NaN</td>\n",
       "    </tr>\n",
       "    <tr>\n",
       "      <th>1</th>\n",
       "      <td>00000001_000.png</td>\n",
       "      <td>Cardiomegaly</td>\n",
       "      <td>0</td>\n",
       "      <td>1</td>\n",
       "      <td>58</td>\n",
       "      <td>M</td>\n",
       "      <td>PA</td>\n",
       "      <td>2682</td>\n",
       "      <td>2749</td>\n",
       "      <td>0.143</td>\n",
       "      <td>0.143</td>\n",
       "      <td>NaN</td>\n",
       "    </tr>\n",
       "    <tr>\n",
       "      <th>2</th>\n",
       "      <td>00000001_001.png</td>\n",
       "      <td>Cardiomegaly|Emphysema</td>\n",
       "      <td>1</td>\n",
       "      <td>1</td>\n",
       "      <td>58</td>\n",
       "      <td>M</td>\n",
       "      <td>PA</td>\n",
       "      <td>2894</td>\n",
       "      <td>2729</td>\n",
       "      <td>0.143</td>\n",
       "      <td>0.143</td>\n",
       "      <td>NaN</td>\n",
       "    </tr>\n",
       "    <tr>\n",
       "      <th>3</th>\n",
       "      <td>00000001_002.png</td>\n",
       "      <td>Cardiomegaly|Effusion</td>\n",
       "      <td>2</td>\n",
       "      <td>1</td>\n",
       "      <td>58</td>\n",
       "      <td>M</td>\n",
       "      <td>PA</td>\n",
       "      <td>2500</td>\n",
       "      <td>2048</td>\n",
       "      <td>0.168</td>\n",
       "      <td>0.168</td>\n",
       "      <td>NaN</td>\n",
       "    </tr>\n",
       "    <tr>\n",
       "      <th>4</th>\n",
       "      <td>00000002_000.png</td>\n",
       "      <td>No Finding</td>\n",
       "      <td>0</td>\n",
       "      <td>2</td>\n",
       "      <td>81</td>\n",
       "      <td>M</td>\n",
       "      <td>PA</td>\n",
       "      <td>2500</td>\n",
       "      <td>2048</td>\n",
       "      <td>0.171</td>\n",
       "      <td>0.171</td>\n",
       "      <td>NaN</td>\n",
       "    </tr>\n",
       "  </tbody>\n",
       "</table>\n",
       "</div>"
      ],
      "text/plain": [
       "            Column1                 Column2      Column3     Column4  \\\n",
       "0       Image Index          Finding Labels  Follow-up #  Patient ID   \n",
       "1  00000001_000.png            Cardiomegaly            0           1   \n",
       "2  00000001_001.png  Cardiomegaly|Emphysema            1           1   \n",
       "3  00000001_002.png   Cardiomegaly|Effusion            2           1   \n",
       "4  00000002_000.png              No Finding            0           2   \n",
       "\n",
       "       Column5         Column6        Column7              Column8  Column9  \\\n",
       "0  Patient Age  Patient Gender  View Position  OriginalImage[Width  Height]   \n",
       "1           58               M             PA                 2682     2749   \n",
       "2           58               M             PA                 2894     2729   \n",
       "3           58               M             PA                 2500     2048   \n",
       "4           81               M             PA                 2500     2048   \n",
       "\n",
       "                      Column10 Column11  Column12  \n",
       "0  OriginalImagePixelSpacing[x       y]       NaN  \n",
       "1                        0.143    0.143       NaN  \n",
       "2                        0.143    0.143       NaN  \n",
       "3                        0.168    0.168       NaN  \n",
       "4                        0.171    0.171       NaN  "
      ]
     },
     "execution_count": 3,
     "metadata": {},
     "output_type": "execute_result"
    }
   ],
   "source": [
    "data_entry.head()"
   ]
  },
  {
   "cell_type": "markdown",
   "metadata": {},
   "source": [
    "### Process folder\n",
    "Count how many images are there in each folder of dataset"
   ]
  },
  {
   "cell_type": "code",
   "execution_count": 16,
   "metadata": {},
   "outputs": [
    {
     "name": "stdout",
     "output_type": "stream",
     "text": [
      "True\n",
      "{'images_001': 4999, 'images_002': 10000, 'images_003': 10000, 'images_004': 10000, 'images_005': 10000, 'images_006': 10000, 'images_007': 10000, 'images_008': 10000, 'images_009': 10000, 'images_010': 10000, 'images_011': 10000, 'images_012': 7121}\n"
     ]
    }
   ],
   "source": [
    "root_path = \"G:\\\\Code\\\\Dataset\\\\archive\"\n",
    "\n",
    "img_folder = ['images_001', 'images_002', 'images_003', 'images_004', 'images_005', 'images_006', 'images_007', 'images_008', 'images_009', 'images_010', 'images_011', 'images_012']\n",
    "folder_size = {}\n",
    "print(exists(root_path))\n",
    "\n",
    "for folder in img_folder:\n",
    "\n",
    "    folder_size[folder] = (len(os.listdir((join(root_path, join(folder, \"images\"))))))\n",
    "\n",
    "print(folder_size)"
   ]
  },
  {
   "cell_type": "code",
   "execution_count": 17,
   "metadata": {},
   "outputs": [],
   "source": [
    "with open(\"folder_size.json\", 'w') as f:\n",
    "    json.dump(folder_size, f)"
   ]
  },
  {
   "cell_type": "markdown",
   "metadata": {},
   "source": [
    "### Get labels\n",
    "Saved to a json file, so don't run it again"
   ]
  },
  {
   "cell_type": "code",
   "execution_count": 30,
   "metadata": {},
   "outputs": [],
   "source": [
    "label_map = {}\n",
    "\n",
    "for labels in data_entry[\"Column2\"].to_list()[1:]:\n",
    "    for label in labels.split(\"|\"):\n",
    "        label_map[label] = None    "
   ]
  },
  {
   "cell_type": "code",
   "execution_count": 31,
   "metadata": {},
   "outputs": [
    {
     "data": {
      "text/plain": [
       "{'Cardiomegaly': 0,\n",
       " 'Emphysema': 1,\n",
       " 'Effusion': 2,\n",
       " 'No Finding': 3,\n",
       " 'Hernia': 4,\n",
       " 'Infiltration': 5,\n",
       " 'Mass': 6,\n",
       " 'Nodule': 7,\n",
       " 'Atelectasis': 8,\n",
       " 'Pneumothorax': 9,\n",
       " 'Pleural_Thickening': 10,\n",
       " 'Pneumonia': 11,\n",
       " 'Fibrosis': 12,\n",
       " 'Edema': 13,\n",
       " 'Consolidation': 14}"
      ]
     },
     "execution_count": 31,
     "metadata": {},
     "output_type": "execute_result"
    }
   ],
   "source": [
    "c = 0\n",
    "for label in label_map:\n",
    "    label_map[label] = c\n",
    "    c += 1\n",
    "\n",
    "label_map"
   ]
  },
  {
   "cell_type": "markdown",
   "metadata": {},
   "source": [
    "### Re-label image \n",
    "Assign each class with an index and then label each image with one-hot vector"
   ]
  },
  {
   "cell_type": "code",
   "execution_count": 34,
   "metadata": {},
   "outputs": [
    {
     "data": {
      "text/html": [
       "<div>\n",
       "<style scoped>\n",
       "    .dataframe tbody tr th:only-of-type {\n",
       "        vertical-align: middle;\n",
       "    }\n",
       "\n",
       "    .dataframe tbody tr th {\n",
       "        vertical-align: top;\n",
       "    }\n",
       "\n",
       "    .dataframe thead th {\n",
       "        text-align: right;\n",
       "    }\n",
       "</style>\n",
       "<table border=\"1\" class=\"dataframe\">\n",
       "  <thead>\n",
       "    <tr style=\"text-align: right;\">\n",
       "      <th></th>\n",
       "      <th>Column1</th>\n",
       "      <th>Column2</th>\n",
       "    </tr>\n",
       "  </thead>\n",
       "  <tbody>\n",
       "    <tr>\n",
       "      <th>1</th>\n",
       "      <td>00000001_000.png</td>\n",
       "      <td>Cardiomegaly</td>\n",
       "    </tr>\n",
       "    <tr>\n",
       "      <th>2</th>\n",
       "      <td>00000001_001.png</td>\n",
       "      <td>Cardiomegaly|Emphysema</td>\n",
       "    </tr>\n",
       "    <tr>\n",
       "      <th>3</th>\n",
       "      <td>00000001_002.png</td>\n",
       "      <td>Cardiomegaly|Effusion</td>\n",
       "    </tr>\n",
       "    <tr>\n",
       "      <th>4</th>\n",
       "      <td>00000002_000.png</td>\n",
       "      <td>No Finding</td>\n",
       "    </tr>\n",
       "    <tr>\n",
       "      <th>5</th>\n",
       "      <td>00000003_000.png</td>\n",
       "      <td>Hernia</td>\n",
       "    </tr>\n",
       "  </tbody>\n",
       "</table>\n",
       "</div>"
      ],
      "text/plain": [
       "            Column1                 Column2\n",
       "1  00000001_000.png            Cardiomegaly\n",
       "2  00000001_001.png  Cardiomegaly|Emphysema\n",
       "3  00000001_002.png   Cardiomegaly|Effusion\n",
       "4  00000002_000.png              No Finding\n",
       "5  00000003_000.png                  Hernia"
      ]
     },
     "execution_count": 34,
     "metadata": {},
     "output_type": "execute_result"
    }
   ],
   "source": [
    "img_labels_df = data_entry[[\"Column1\",\"Column2\"]].drop(index=0)\n",
    "img_labels_df.head()"
   ]
  },
  {
   "cell_type": "code",
   "execution_count": null,
   "metadata": {},
   "outputs": [],
   "source": [
    "# clear data entry since it's quite large, don't run if you didn't load it\n",
    "import gc\n",
    "\n",
    "del data_entry\n",
    "gc.collect()"
   ]
  },
  {
   "cell_type": "code",
   "execution_count": 45,
   "metadata": {},
   "outputs": [],
   "source": [
    "rows , cols = img_labels_df.shape"
   ]
  },
  {
   "cell_type": "code",
   "execution_count": 51,
   "metadata": {},
   "outputs": [
    {
     "name": "stderr",
     "output_type": "stream",
     "text": [
      "100%|██████████| 104999/104999 [00:51<00:00, 2030.56it/s]\n"
     ]
    }
   ],
   "source": [
    "# save label to train folder\n",
    "train_label_path = join(root_path, \"train\\\\class_label\")\n",
    "for i in tqdm(range(rows - folder_size[\"images_012\"])):\n",
    "    one_label = np.zeros(15)\n",
    "    label = img_labels_df.iloc[i,1] # row , col\n",
    "    for class_ in label.split('|'):\n",
    "        one_label[label_map[class_]] = 1\n",
    "\n",
    "    img_name = img_labels_df.iloc[i,0]\n",
    "    np.save(join(train_label_path,img_name), one_label)"
   ]
  },
  {
   "cell_type": "code",
   "execution_count": 52,
   "metadata": {},
   "outputs": [
    {
     "name": "stderr",
     "output_type": "stream",
     "text": [
      "100%|██████████| 7121/7121 [00:03<00:00, 2339.78it/s]\n"
     ]
    }
   ],
   "source": [
    "# save label to test folder\n",
    "test_label_path = join(root_path, \"test\\\\class_label\")\n",
    "for i in tqdm(range(rows - folder_size[\"images_012\"], rows)):\n",
    "    one_label = np.zeros(15)\n",
    "    label = img_labels_df.iloc[i,1] # row , col\n",
    "    for class_ in label.split('|'):\n",
    "        one_label[label_map[class_]] = 1\n",
    "\n",
    "    img_name = img_labels_df.iloc[i,0]\n",
    "    np.save(join(test_label_path,img_name), one_label)"
   ]
  }
 ],
 "metadata": {
  "kernelspec": {
   "display_name": "Python 3",
   "language": "python",
   "name": "python3"
  },
  "language_info": {
   "codemirror_mode": {
    "name": "ipython",
    "version": 3
   },
   "file_extension": ".py",
   "mimetype": "text/x-python",
   "name": "python",
   "nbconvert_exporter": "python",
   "pygments_lexer": "ipython3",
   "version": "3.11.1"
  }
 },
 "nbformat": 4,
 "nbformat_minor": 2
}
